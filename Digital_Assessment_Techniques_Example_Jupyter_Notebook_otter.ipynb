{
 "cells": [
  {
   "cell_type": "raw",
   "id": "3ab2301e-1024-4cfa-a962-fe92e3793216",
   "metadata": {},
   "source": [
    "# ASSIGNMENT CONFIG\n",
    "generate: \n",
    "    zips: true\n",
    "files:\n",
    "    - PHYS121.py\n",
    "    - Lab_6_Part_3_Data.csv\n",
    "export_cell: false\n",
    "init_cell: false"
   ]
  },
  {
   "cell_type": "markdown",
   "id": "47f8c289-1a82-478e-92e0-157aaea953e0",
   "metadata": {},
   "source": [
    "# Example Jupyter Notebook\n",
    "## Leveraging Digital Assessment Techniques for Enhanced Learning: Community of Practice\n",
    "\n",
    "**January 18, 2024**  \n",
    "12:00 - 13:20  \n",
    "SCI 331\n",
    "\n",
    "This is a Markdown cell that can be used to:\n",
    " - deliver notes\n",
    " - shown figures\n",
    " - link to enternal resources\n",
    " \n",
    "Here, for example, is the Markdown logo...\n",
    "<p>\n",
    "<center>\n",
    "<img src=\"https://raw.githubusercontent.com/UBC-Okanagan-Physics-Labs/Digital-Assessment-Techniques-CoP/3f2a572d3ab18a3ba348a490b096deb180a2499d/images/Markdown-mark.svg\" alt=\"Markdown logo\" style=\"width: 20%; height: auto;\" />\n",
    "</center>\n",
    "</p>\n",
    "...and here is a link to a Markdown <a href=\"https://github.com/adam-p/markdown-here/wiki/Markdown-Cheatsheet\">cheat sheet</a>.  You can use html commands in a Markdown cell too.\n",
    "\n",
    "***\n",
    "Let's first import some useful Python modules."
   ]
  },
  {
   "cell_type": "code",
   "execution_count": 1,
   "id": "7c31b8bb-230c-44c0-bf3b-fdacbe53e2f3",
   "metadata": {},
   "outputs": [],
   "source": [
    "import numpy as np\n",
    "import pandas as pd\n",
    "import matplotlib.pyplot as plt"
   ]
  },
  {
   "cell_type": "markdown",
   "id": "6d419f0e-9255-4e52-80f4-50c5db1a59e7",
   "metadata": {},
   "source": [
    "We can also import custom functions stored in PHYS121.py"
   ]
  },
  {
   "cell_type": "code",
   "execution_count": 2,
   "id": "541d1e6e-7751-4226-8159-58068ca41709",
   "metadata": {},
   "outputs": [
    {
     "data": {
      "text/html": [
       "<text style=color:black>All packages already installed. Please proceed.</text>"
      ],
      "text/plain": [
       "<IPython.core.display.HTML object>"
      ]
     },
     "metadata": {},
     "output_type": "display_data"
    }
   ],
   "source": [
    "import PHYS121\n",
    "PHYS121.Installer()"
   ]
  },
  {
   "cell_type": "markdown",
   "id": "b73dc99e-a955-44bf-a4a2-d4a93620efd8",
   "metadata": {},
   "source": [
    "To use auto-grading with otter-grader, we must import and initialize otter."
   ]
  },
  {
   "cell_type": "code",
   "execution_count": 3,
   "id": "96ac6a9f-4f5d-40f4-821c-baee4721c30c",
   "metadata": {},
   "outputs": [],
   "source": [
    "# Import Otter for the purposes of autograding\n",
    "import otter\n",
    "\n",
    "# Initialize Otter (for the purposes of auto-grading some cells)\n",
    "grader = otter.Notebook(\"Digital_Assessment_Techniques_Example_Jupyter_Notebook_otter.ipynb\")"
   ]
  },
  {
   "cell_type": "markdown",
   "id": "222d7f93-e393-4bd5-af2d-8d2c8fbf08af",
   "metadata": {},
   "source": [
    "Import some data contained in the file \"Lab_6_Part_3_Data.csv\" into a Pandas dataframe."
   ]
  },
  {
   "cell_type": "code",
   "execution_count": 4,
   "id": "294e0bfc-8c44-42d5-ba10-882a28c35587",
   "metadata": {},
   "outputs": [
    {
     "data": {
      "text/html": [
       "<div>\n",
       "<style scoped>\n",
       "    .dataframe tbody tr th:only-of-type {\n",
       "        vertical-align: middle;\n",
       "    }\n",
       "\n",
       "    .dataframe tbody tr th {\n",
       "        vertical-align: top;\n",
       "    }\n",
       "\n",
       "    .dataframe thead th {\n",
       "        text-align: right;\n",
       "    }\n",
       "</style>\n",
       "<table border=\"1\" class=\"dataframe\">\n",
       "  <thead>\n",
       "    <tr style=\"text-align: right;\">\n",
       "      <th></th>\n",
       "      <th>Time (s)</th>\n",
       "      <th>V (V)</th>\n",
       "    </tr>\n",
       "  </thead>\n",
       "  <tbody>\n",
       "    <tr>\n",
       "      <th>0</th>\n",
       "      <td>0.0000</td>\n",
       "      <td>5.911172</td>\n",
       "    </tr>\n",
       "    <tr>\n",
       "      <th>1</th>\n",
       "      <td>0.3333</td>\n",
       "      <td>5.816545</td>\n",
       "    </tr>\n",
       "    <tr>\n",
       "      <th>2</th>\n",
       "      <td>0.6666</td>\n",
       "      <td>5.718864</td>\n",
       "    </tr>\n",
       "    <tr>\n",
       "      <th>3</th>\n",
       "      <td>0.9999</td>\n",
       "      <td>5.636447</td>\n",
       "    </tr>\n",
       "    <tr>\n",
       "      <th>4</th>\n",
       "      <td>1.3332</td>\n",
       "      <td>5.554029</td>\n",
       "    </tr>\n",
       "    <tr>\n",
       "      <th>...</th>\n",
       "      <td>...</td>\n",
       "      <td>...</td>\n",
       "    </tr>\n",
       "    <tr>\n",
       "      <th>176</th>\n",
       "      <td>58.6608</td>\n",
       "      <td>0.431929</td>\n",
       "    </tr>\n",
       "    <tr>\n",
       "      <th>177</th>\n",
       "      <td>58.9941</td>\n",
       "      <td>0.422772</td>\n",
       "    </tr>\n",
       "    <tr>\n",
       "      <th>178</th>\n",
       "      <td>59.3274</td>\n",
       "      <td>0.419719</td>\n",
       "    </tr>\n",
       "    <tr>\n",
       "      <th>179</th>\n",
       "      <td>59.6607</td>\n",
       "      <td>0.410562</td>\n",
       "    </tr>\n",
       "    <tr>\n",
       "      <th>180</th>\n",
       "      <td>59.9940</td>\n",
       "      <td>0.407509</td>\n",
       "    </tr>\n",
       "  </tbody>\n",
       "</table>\n",
       "<p>181 rows × 2 columns</p>\n",
       "</div>"
      ],
      "text/plain": [
       "     Time (s)     V (V)\n",
       "0      0.0000  5.911172\n",
       "1      0.3333  5.816545\n",
       "2      0.6666  5.718864\n",
       "3      0.9999  5.636447\n",
       "4      1.3332  5.554029\n",
       "..        ...       ...\n",
       "176   58.6608  0.431929\n",
       "177   58.9941  0.422772\n",
       "178   59.3274  0.419719\n",
       "179   59.6607  0.410562\n",
       "180   59.9940  0.407509\n",
       "\n",
       "[181 rows x 2 columns]"
      ]
     },
     "execution_count": 4,
     "metadata": {},
     "output_type": "execute_result"
    }
   ],
   "source": [
    "# Hitting 'Shift' + 'Enter' will import the file and a data table will be printed below.\n",
    "filename = 'Lab_6_Part_3_Data.csv'\n",
    "df = pd.read_csv(filename)\n",
    "\n",
    "# Display the dateFrame\n",
    "df"
   ]
  },
  {
   "cell_type": "markdown",
   "id": "ce1f4b56-d7cb-4fdb-a575-e2b22c99d188",
   "metadata": {},
   "source": [
    "The data is the voltage $V$ across a capacitor $C$ discharging through a resistor $R$ as a function of time $t$.  The expected time dependence is given by:\n",
    "$$\n",
    "V = V_0 e^{-t/\\tau},\n",
    "$$\n",
    "where $V_0$ is the capacitor voltage at time $t = 0$ and $\\tau = RC$ is a time constant."
   ]
  },
  {
   "cell_type": "code",
   "execution_count": 5,
   "id": "44adc480-e834-4c2e-889b-5b623e162e2b",
   "metadata": {},
   "outputs": [
    {
     "data": {
      "image/png": "[encoded data removed]",
      "text/plain": [
       "<Figure size 500x500 with 1 Axes>"
      ]
     },
     "metadata": {},
     "output_type": "display_data"
    }
   ],
   "source": [
    "PHYS121.Scatter(xData = df[\"Time (s)\"], \n",
    "                yData = df[\"V (V)\"],\n",
    "                xlabel = \"Time (s)\",\n",
    "                ylabel = \"Voltage (V)\");"
   ]
  },
  {
   "cell_type": "markdown",
   "id": "9968347e-54da-4eb8-9703-51f11ea9c1eb",
   "metadata": {},
   "source": [
    "The experimental data can be linearized by taking the natural logarithm of the voltage.  In Python (NumPy), the natural logarithm is evaluated using:\n",
    "```python\n",
    "np.log(V)\n",
    "```\n",
    "We can take the natural logarithm of the voltage and add the result as a new column in the Pandas dataframe."
   ]
  },
  {
   "cell_type": "code",
   "execution_count": 6,
   "id": "bfeeead0-28cc-4709-8ae5-6336a83cca4b",
   "metadata": {},
   "outputs": [
    {
     "data": {
      "text/html": [
       "<div>\n",
       "<style scoped>\n",
       "    .dataframe tbody tr th:only-of-type {\n",
       "        vertical-align: middle;\n",
       "    }\n",
       "\n",
       "    .dataframe tbody tr th {\n",
       "        vertical-align: top;\n",
       "    }\n",
       "\n",
       "    .dataframe thead th {\n",
       "        text-align: right;\n",
       "    }\n",
       "</style>\n",
       "<table border=\"1\" class=\"dataframe\">\n",
       "  <thead>\n",
       "    <tr style=\"text-align: right;\">\n",
       "      <th></th>\n",
       "      <th>Time (s)</th>\n",
       "      <th>V (V)</th>\n",
       "      <th>lnV</th>\n",
       "    </tr>\n",
       "  </thead>\n",
       "  <tbody>\n",
       "    <tr>\n",
       "      <th>0</th>\n",
       "      <td>0.0000</td>\n",
       "      <td>5.911172</td>\n",
       "      <td>1.776844</td>\n",
       "    </tr>\n",
       "    <tr>\n",
       "      <th>1</th>\n",
       "      <td>0.3333</td>\n",
       "      <td>5.816545</td>\n",
       "      <td>1.760706</td>\n",
       "    </tr>\n",
       "    <tr>\n",
       "      <th>2</th>\n",
       "      <td>0.6666</td>\n",
       "      <td>5.718864</td>\n",
       "      <td>1.743770</td>\n",
       "    </tr>\n",
       "    <tr>\n",
       "      <th>3</th>\n",
       "      <td>0.9999</td>\n",
       "      <td>5.636447</td>\n",
       "      <td>1.729254</td>\n",
       "    </tr>\n",
       "    <tr>\n",
       "      <th>4</th>\n",
       "      <td>1.3332</td>\n",
       "      <td>5.554029</td>\n",
       "      <td>1.714524</td>\n",
       "    </tr>\n",
       "    <tr>\n",
       "      <th>...</th>\n",
       "      <td>...</td>\n",
       "      <td>...</td>\n",
       "      <td>...</td>\n",
       "    </tr>\n",
       "    <tr>\n",
       "      <th>176</th>\n",
       "      <td>58.6608</td>\n",
       "      <td>0.431929</td>\n",
       "      <td>-0.839494</td>\n",
       "    </tr>\n",
       "    <tr>\n",
       "      <th>177</th>\n",
       "      <td>58.9941</td>\n",
       "      <td>0.422772</td>\n",
       "      <td>-0.860923</td>\n",
       "    </tr>\n",
       "    <tr>\n",
       "      <th>178</th>\n",
       "      <td>59.3274</td>\n",
       "      <td>0.419719</td>\n",
       "      <td>-0.868169</td>\n",
       "    </tr>\n",
       "    <tr>\n",
       "      <th>179</th>\n",
       "      <td>59.6607</td>\n",
       "      <td>0.410562</td>\n",
       "      <td>-0.890229</td>\n",
       "    </tr>\n",
       "    <tr>\n",
       "      <th>180</th>\n",
       "      <td>59.9940</td>\n",
       "      <td>0.407509</td>\n",
       "      <td>-0.897692</td>\n",
       "    </tr>\n",
       "  </tbody>\n",
       "</table>\n",
       "<p>181 rows × 3 columns</p>\n",
       "</div>"
      ],
      "text/plain": [
       "     Time (s)     V (V)       lnV\n",
       "0      0.0000  5.911172  1.776844\n",
       "1      0.3333  5.816545  1.760706\n",
       "2      0.6666  5.718864  1.743770\n",
       "3      0.9999  5.636447  1.729254\n",
       "4      1.3332  5.554029  1.714524\n",
       "..        ...       ...       ...\n",
       "176   58.6608  0.431929 -0.839494\n",
       "177   58.9941  0.422772 -0.860923\n",
       "178   59.3274  0.419719 -0.868169\n",
       "179   59.6607  0.410562 -0.890229\n",
       "180   59.9940  0.407509 -0.897692\n",
       "\n",
       "[181 rows x 3 columns]"
      ]
     },
     "execution_count": 6,
     "metadata": {},
     "output_type": "execute_result"
    }
   ],
   "source": [
    "df.insert(2, \"lnV\", np.log(df[\"V (V)\"]), True)\n",
    "df"
   ]
  },
  {
   "cell_type": "markdown",
   "id": "d37f53e7-a646-4281-85fd-72ac95794074",
   "metadata": {},
   "source": [
    "Use the same PHYS121.Scatter() function to confirm that $ln(V)$ versus $t$ is linear."
   ]
  },
  {
   "cell_type": "code",
   "execution_count": 7,
   "id": "9bf453fc-336c-44ef-a752-e2a2d7bd7bcd",
   "metadata": {},
   "outputs": [
    {
     "data": {
      "image/png": "[encoded data removed]",
      "text/plain": [
       "<Figure size 500x500 with 1 Axes>"
      ]
     },
     "metadata": {},
     "output_type": "display_data"
    }
   ],
   "source": [
    "PHYS121.Scatter(xData = df[\"Time (s)\"], \n",
    "                yData = df[\"lnV\"],\n",
    "                xlabel = \"Time (s)\",\n",
    "                ylabel = \"ln V\");"
   ]
  },
  {
   "cell_type": "markdown",
   "id": "b3add824-35a2-445f-9d8e-38cdff6cd8f8",
   "metadata": {},
   "source": [
    "Let's fit the data to a straight line using the 'PHYS121.LinearFit()' function."
   ]
  },
  {
   "cell_type": "code",
   "execution_count": 8,
   "id": "6f196bd3-6ccc-4b16-8f45-06bb75a052f5",
   "metadata": {},
   "outputs": [
    {
     "name": "stdout",
     "output_type": "stream",
     "text": [
      "\n"
     ]
    },
    {
     "data": {
      "text/markdown": [
       "$y = m\\,x + b$"
      ],
      "text/plain": [
       "<IPython.core.display.Markdown object>"
      ]
     },
     "metadata": {},
     "output_type": "display_data"
    },
    {
     "data": {
      "text/markdown": [
       "This is an **UNWEIGHTED** fit."
      ],
      "text/plain": [
       "<IPython.core.display.Markdown object>"
      ]
     },
     "metadata": {},
     "output_type": "display_data"
    },
    {
     "data": {
      "text/html": [
       "<div>\n",
       "<style scoped>\n",
       "    .dataframe tbody tr th:only-of-type {\n",
       "        vertical-align: middle;\n",
       "    }\n",
       "\n",
       "    .dataframe tbody tr th {\n",
       "        vertical-align: top;\n",
       "    }\n",
       "\n",
       "    .dataframe thead th {\n",
       "        text-align: right;\n",
       "    }\n",
       "</style>\n",
       "<table border=\"1\" class=\"dataframe\">\n",
       "  <thead>\n",
       "    <tr style=\"text-align: right;\">\n",
       "      <th></th>\n",
       "      <th></th>\n",
       "      <th>Value</th>\n",
       "    </tr>\n",
       "  </thead>\n",
       "  <tbody>\n",
       "    <tr>\n",
       "      <th>slope</th>\n",
       "      <td>$m =$</td>\n",
       "      <td>-0.044560+/-0.000020</td>\n",
       "    </tr>\n",
       "    <tr>\n",
       "      <th>$y$-intercept</th>\n",
       "      <td>$b =$</td>\n",
       "      <td>1.76551+/-0.00068</td>\n",
       "    </tr>\n",
       "  </tbody>\n",
       "</table>\n",
       "</div>"
      ],
      "text/plain": [
       "                                     Value\n",
       "slope          $m =$  -0.044560+/-0.000020\n",
       "$y$-intercept  $b =$     1.76551+/-0.00068"
      ]
     },
     "metadata": {},
     "output_type": "display_data"
    },
    {
     "data": {
      "image/png": "[encoded data removed]",
      "text/plain": [
       "<Figure size 500x500 with 1 Axes>"
      ]
     },
     "metadata": {},
     "output_type": "display_data"
    }
   ],
   "source": [
    "m, b, err_m, err_b, fig = PHYS121.LinearFit(xData = df[\"Time (s)\"], \n",
    "                yData = df[\"lnV\"],\n",
    "                xlabel = \"Time (s)\",\n",
    "                ylabel = \"ln V\")"
   ]
  },
  {
   "cell_type": "markdown",
   "id": "fd100763-31d3-41c9-b02e-0e530ba09810",
   "metadata": {},
   "source": [
    "Finally, the slope and its uncertainty can be used to find the discharging time contant:\n",
    "$$\n",
    "\\tau = RC = -m^{-1}\n",
    "$$\n",
    "and:\n",
    "$$\n",
    "\\Delta\\tau = \\frac{\\Delta m}{m^2}\n",
    "$$"
   ]
  },
  {
   "cell_type": "raw",
   "id": "c3b2b712-86b6-45c5-9449-63bd0088b248",
   "metadata": {},
   "source": [
    "# BEGIN QUESTION\n",
    "name: Q_tau\n",
    "manual: False"
   ]
  },
  {
   "cell_type": "markdown",
   "id": "51530f83-4e4a-4f03-b141-886310b02f9c",
   "metadata": {},
   "source": [
    "***\n",
    "**<span style=\"color:blue\">Question 1</span>** **<span style=\"color:red\">(2 marks)</span>**  \n",
    "In the cell below, enter expressions to calculate the discharging time constant $\\tau$ and its uncertainty $\\Delta\\tau$."
   ]
  },
  {
   "cell_type": "raw",
   "id": "3dc689c8-e433-4300-832b-bcbf2a743afe",
   "metadata": {},
   "source": [
    "# BEGIN PROMPT"
   ]
  },
  {
   "cell_type": "markdown",
   "id": "6bfa9eac-3b97-4519-b0de-93ac735b8990",
   "metadata": {},
   "source": [
    "**<span style=\"color:blue\">Answer 1</span>**  \n",
    "Replace the ... in the cell below with your answer.    \n",
    "*** Please do not change anything to the left of the equals sign. ***"
   ]
  },
  {
   "cell_type": "raw",
   "id": "998c998d-be54-4560-b7d8-33a2f3f30f83",
   "metadata": {},
   "source": [
    "# END PROMPT"
   ]
  },
  {
   "cell_type": "raw",
   "id": "cf32ec15-c804-4058-8f3b-88bf845b0a0f",
   "metadata": {},
   "source": [
    "# BEGIN SOLUTION"
   ]
  },
  {
   "cell_type": "code",
   "execution_count": 9,
   "id": "135e2b3e-8d5e-41b9-8cbe-01aa25b1962b",
   "metadata": {},
   "outputs": [],
   "source": [
    "tau = -1/m # SOLUTION\n",
    "err_tau = err_m/m**2 # SOLUTION"
   ]
  },
  {
   "cell_type": "raw",
   "id": "12f38085-c66a-40b4-8cea-0d4443d1f1ca",
   "metadata": {},
   "source": [
    "# END SOLUTION"
   ]
  },
  {
   "cell_type": "raw",
   "id": "fae484fe-7232-4413-8ff5-cb04eb81ccb2",
   "metadata": {},
   "source": [
    "# BEGIN TESTS"
   ]
  },
  {
   "cell_type": "code",
   "execution_count": 10,
   "id": "25016c56-2f1a-4f6e-841b-a5c8368b9cfe",
   "metadata": {},
   "outputs": [
    {
     "data": {
      "text/plain": [
       "True"
      ]
     },
     "execution_count": 10,
     "metadata": {},
     "output_type": "execute_result"
    }
   ],
   "source": [
    "\"\"\" # BEGIN TEST CONFIG\n",
    "hidden: False\n",
    "points: 0\n",
    "failure_message: tau must evaluate to a number. \n",
    "\"\"\" # END TEST CONFIG \n",
    "isinstance(tau, float)"
   ]
  },
  {
   "cell_type": "code",
   "execution_count": 11,
   "id": "45cc48f6-285a-43ba-a11f-8cbd326166c7",
   "metadata": {},
   "outputs": [
    {
     "data": {
      "text/plain": [
       "True"
      ]
     },
     "execution_count": 11,
     "metadata": {},
     "output_type": "execute_result"
    }
   ],
   "source": [
    "\"\"\" # BEGIN TEST CONFIG\n",
    "hidden: False\n",
    "points: 0\n",
    "failure_message: err_tau must evaluate to a number. \n",
    "\"\"\" # END TEST CONFIG \n",
    "isinstance(err_tau, float)"
   ]
  },
  {
   "cell_type": "code",
   "execution_count": 12,
   "id": "64361950-53ab-4b12-a686-d4bc45f5ebdc",
   "metadata": {},
   "outputs": [
    {
     "data": {
      "text/plain": [
       "True"
      ]
     },
     "execution_count": 12,
     "metadata": {},
     "output_type": "execute_result"
    }
   ],
   "source": [
    "\"\"\" # BEGIN TEST CONFIG\n",
    "hidden: False\n",
    "points: 1\n",
    "failure_message: Double check your expression for tau. \n",
    "\"\"\" # END TEST CONFIG \n",
    "tau == -1/m"
   ]
  },
  {
   "cell_type": "code",
   "execution_count": 13,
   "id": "e81a8a58-0bbb-4075-b912-5851d9500b29",
   "metadata": {},
   "outputs": [
    {
     "data": {
      "text/plain": [
       "True"
      ]
     },
     "execution_count": 13,
     "metadata": {},
     "output_type": "execute_result"
    }
   ],
   "source": [
    "\"\"\" # BEGIN TEST CONFIG\n",
    "hidden: False\n",
    "points: 1\n",
    "failure_message: Double check your expression for err_tau. \n",
    "\"\"\" # END TEST CONFIG \n",
    "err_tau == err_m/m**2"
   ]
  },
  {
   "cell_type": "raw",
   "id": "cf8b9410-32a5-499f-8e62-3b0362fc8367",
   "metadata": {},
   "source": [
    "# END TESTS"
   ]
  },
  {
   "cell_type": "raw",
   "id": "a492db08-8342-4f52-b155-4d98a890ead5",
   "metadata": {},
   "source": [
    "# END QUESTION"
   ]
  },
  {
   "cell_type": "code",
   "execution_count": 14,
   "id": "d4856c3b-4c3b-42df-93c8-8eac186297d3",
   "metadata": {},
   "outputs": [
    {
     "name": "stdout",
     "output_type": "stream",
     "text": [
      "The experimental time constant is RC = 22.442 +/- 0.010 s\n"
     ]
    }
   ],
   "source": [
    "print(f'The experimental time constant is RC = {tau:.3f} +/- {err_tau:.3f} s')"
   ]
  },
  {
   "cell_type": "markdown",
   "id": "b7e66cac-18fb-4d6d-a56d-ccacb3624cf2",
   "metadata": {},
   "source": [
    "***\n",
    "<img src=\"https://raw.githubusercontent.com/UBC-Okanagan-Physics-Labs/Digital-Assessment-Techniques-CoP/main/images/ubc-logo-full.jpg\" width=\"500\"/>"
   ]
  },
  {
   "cell_type": "markdown",
   "id": "2550df57-96f9-4637-b6ed-b62cba22a00f",
   "metadata": {},
   "source": [
    "Last update: January 9, 2024"
   ]
  }
 ],
 "metadata": {
  "kernelspec": {
   "display_name": "Python 3 (ipykernel)",
   "language": "python",
   "name": "python3"
  },
  "language_info": {
   "codemirror_mode": {
    "name": "ipython",
    "version": 3
   },
   "file_extension": ".py",
   "mimetype": "text/x-python",
   "name": "python",
   "nbconvert_exporter": "python",
   "pygments_lexer": "ipython3",
   "version": "3.10.6"
  }
 },
 "nbformat": 4,
 "nbformat_minor": 5
}
