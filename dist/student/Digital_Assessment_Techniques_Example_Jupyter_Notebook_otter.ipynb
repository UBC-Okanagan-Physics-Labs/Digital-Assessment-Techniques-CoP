{
 "cells": [
  {
   "cell_type": "markdown",
   "id": "ab181fa7",
   "metadata": {},
   "source": [
    "# Example Jupyter Notebook\n",
    "## Leveraging Digital Assessment Techniques for Enhanced Learning: Community of Practice\n",
    "\n",
    "**January 18, 2024**  \n",
    "12:00 - 13:20  \n",
    "SCI 331\n",
    "\n",
    "This is a Markdown cell that can be used to:\n",
    " - deliver notes\n",
    " - shown figures\n",
    " - link to enternal resources\n",
    " \n",
    "Here, for example, is the Markdown logo...\n",
    "<p>\n",
    "<center>\n",
    "<img src=\"https://raw.githubusercontent.com/UBC-Okanagan-Physics-Labs/Digital-Assessment-Techniques-CoP/3f2a572d3ab18a3ba348a490b096deb180a2499d/images/Markdown-mark.svg\" alt=\"Markdown logo\" style=\"width: 20%; height: auto;\" />\n",
    "</center>\n",
    "</p>\n",
    "...and here is a link to a Markdown <a href=\"https://github.com/adam-p/markdown-here/wiki/Markdown-Cheatsheet\">cheat sheet</a>.  You can use html commands in a Markdown cell too.\n",
    "\n",
    "***\n",
    "Let's first import some useful Python modules."
   ]
  },
  {
   "cell_type": "code",
   "execution_count": null,
   "id": "d4b5d765",
   "metadata": {},
   "outputs": [],
   "source": [
    "import numpy as np\n",
    "import pandas as pd\n",
    "import matplotlib.pyplot as plt"
   ]
  },
  {
   "cell_type": "markdown",
   "id": "ebc4f532",
   "metadata": {},
   "source": [
    "We can also import custom functions stored in PHYS121.py"
   ]
  },
  {
   "cell_type": "code",
   "execution_count": null,
   "id": "5c028821",
   "metadata": {},
   "outputs": [],
   "source": [
    "import PHYS121\n",
    "PHYS121.Installer()"
   ]
  },
  {
   "cell_type": "markdown",
   "id": "3e8db7fd",
   "metadata": {},
   "source": [
    "To use auto-grading with otter-grader, we must import and initialize otter."
   ]
  },
  {
   "cell_type": "code",
   "execution_count": null,
   "id": "77e52f87",
   "metadata": {},
   "outputs": [],
   "source": [
    "# Import Otter for the purposes of autograding\n",
    "import otter\n",
    "\n",
    "# Initialize Otter (for the purposes of auto-grading some cells)\n",
    "grader = otter.Notebook(\"Digital_Assessment_Techniques_Example_Jupyter_Notebook_otter.ipynb\")"
   ]
  },
  {
   "cell_type": "markdown",
   "id": "2864bf17",
   "metadata": {},
   "source": [
    "Import some data contained in the file \"Lab_6_Part_3_Data.csv\" into a Pandas dataframe."
   ]
  },
  {
   "cell_type": "code",
   "execution_count": null,
   "id": "e4c290eb",
   "metadata": {},
   "outputs": [],
   "source": [
    "# Hitting 'Shift' + 'Enter' will import the file and a data table will be printed below.\n",
    "filename = 'Lab_6_Part_3_Data.csv'\n",
    "df = pd.read_csv(filename)\n",
    "\n",
    "# Display the dateFrame\n",
    "df"
   ]
  },
  {
   "cell_type": "markdown",
   "id": "aec960a2",
   "metadata": {},
   "source": [
    "The data is the voltage $V$ across a capacitor $C$ discharging through a resistor $R$ as a function of time $t$.  The expected time dependence is given by:\n",
    "$$\n",
    "V = V_0 e^{-t/\\tau},\n",
    "$$\n",
    "where $V_0$ is the capacitor voltage at time $t = 0$ and $\\tau = RC$ is a time constant."
   ]
  },
  {
   "cell_type": "code",
   "execution_count": null,
   "id": "662e1bcb",
   "metadata": {},
   "outputs": [],
   "source": [
    "PHYS121.Scatter(xData = df[\"Time (s)\"], \n",
    "                yData = df[\"V (V)\"],\n",
    "                xlabel = \"Time (s)\",\n",
    "                ylabel = \"Voltage (V)\");"
   ]
  },
  {
   "cell_type": "markdown",
   "id": "b4fe9efe",
   "metadata": {},
   "source": [
    "The experimental data can be linearized by taking the natural logarithm of the voltage.  In Python (NumPy), the natural logarithm is evaluated using:\n",
    "```python\n",
    "np.log(V)\n",
    "```\n",
    "We can take the natural logarithm of the voltage and add the result as a new column in the Pandas dataframe."
   ]
  },
  {
   "cell_type": "code",
   "execution_count": null,
   "id": "eb6312c1",
   "metadata": {},
   "outputs": [],
   "source": [
    "df.insert(2, \"lnV\", np.log(df[\"V (V)\"]), True)\n",
    "df"
   ]
  },
  {
   "cell_type": "markdown",
   "id": "2bd81161",
   "metadata": {},
   "source": [
    "Use the same PHYS121.Scatter() function to confirm that $ln(V)$ versus $t$ is linear."
   ]
  },
  {
   "cell_type": "code",
   "execution_count": null,
   "id": "523e6fcc",
   "metadata": {},
   "outputs": [],
   "source": [
    "PHYS121.Scatter(xData = df[\"Time (s)\"], \n",
    "                yData = df[\"lnV\"],\n",
    "                xlabel = \"Time (s)\",\n",
    "                ylabel = \"ln V\");"
   ]
  },
  {
   "cell_type": "markdown",
   "id": "98771d93",
   "metadata": {},
   "source": [
    "Let's fit the data to a straight line using the 'PHYS121.LinearFit()' function."
   ]
  },
  {
   "cell_type": "code",
   "execution_count": null,
   "id": "425a250c",
   "metadata": {},
   "outputs": [],
   "source": [
    "m, b, err_m, err_b, fig = PHYS121.LinearFit(xData = df[\"Time (s)\"], \n",
    "                yData = df[\"lnV\"],\n",
    "                xlabel = \"Time (s)\",\n",
    "                ylabel = \"ln V\")"
   ]
  },
  {
   "cell_type": "markdown",
   "id": "97c5c45c",
   "metadata": {},
   "source": [
    "Finally, the slope and its uncertainty can be used to find the discharging time contant:\n",
    "$$\n",
    "\\tau = RC = -m^{-1}\n",
    "$$\n",
    "and:\n",
    "$$\n",
    "\\Delta\\tau = \\frac{\\Delta m}{m^2}\n",
    "$$"
   ]
  },
  {
   "cell_type": "markdown",
   "id": "d560e58e",
   "metadata": {},
   "source": [
    "***\n",
    "**<span style=\"color:blue\">Question 1</span>** **<span style=\"color:red\">(2 marks)</span>**  \n",
    "In the cell below, enter expressions to calculate the discharging time constant $\\tau$ and its uncertainty $\\Delta\\tau$."
   ]
  },
  {
   "cell_type": "markdown",
   "id": "afe39175",
   "metadata": {},
   "source": [
    "**<span style=\"color:blue\">Answer 1</span>**  \n",
    "Replace the ... in the cell below with your answer.    \n",
    "*** Please do not change anything to the left of the equals sign. ***"
   ]
  },
  {
   "cell_type": "code",
   "execution_count": null,
   "id": "3c907f6e",
   "metadata": {
    "tags": []
   },
   "outputs": [],
   "source": [
    "tau = ...\n",
    "err_tau = err_m/m**2 # SOLTION"
   ]
  },
  {
   "cell_type": "code",
   "execution_count": null,
   "id": "384b5b98",
   "metadata": {
    "deletable": false,
    "editable": false
   },
   "outputs": [],
   "source": [
    "grader.check(\"Q_tau\")"
   ]
  },
  {
   "cell_type": "code",
   "execution_count": null,
   "id": "6785659f",
   "metadata": {},
   "outputs": [],
   "source": [
    "print(f'The experimental time constant is RC = {tau:.3f} +/- {err_tau:.3f} s')"
   ]
  },
  {
   "cell_type": "markdown",
   "id": "5a111a0a",
   "metadata": {},
   "source": [
    "***\n",
    "<img src=\"https://raw.githubusercontent.com/UBC-Okanagan-Physics-Labs/Digital-Assessment-Techniques-CoP/main/images/ubc-logo-full.jpg\" width=\"500\"/>"
   ]
  },
  {
   "cell_type": "markdown",
   "id": "7f0a396b",
   "metadata": {},
   "source": [
    "Last update: January 9, 2024"
   ]
  }
 ],
 "metadata": {
  "kernelspec": {
   "display_name": "Python 3 (ipykernel)",
   "language": "python",
   "name": "python3"
  },
  "language_info": {
   "codemirror_mode": {
    "name": "ipython",
    "version": 3
   },
   "file_extension": ".py",
   "mimetype": "text/x-python",
   "name": "python",
   "nbconvert_exporter": "python",
   "pygments_lexer": "ipython3",
   "version": "3.10.6"
  },
  "otter": {
   "OK_FORMAT": true,
   "tests": {
    "Q_tau": {
     "name": "Q_tau",
     "points": null,
     "suites": [
      {
       "cases": [
        {
         "code": ">>> isinstance(tau, float)\nTrue",
         "failure_message": "tau must evaluate to a number.",
         "hidden": false,
         "locked": false,
         "points": 0
        },
        {
         "code": ">>> isinstance(err_tau, float)\nTrue",
         "failure_message": "err_tau must evaluate to a number.",
         "hidden": false,
         "locked": false,
         "points": 0
        },
        {
         "code": ">>> tau == -1/m\nTrue",
         "failure_message": "Double check your expression for tau.",
         "hidden": false,
         "locked": false,
         "points": 1
        },
        {
         "code": ">>> err_tau == err_m/m**2\nTrue",
         "failure_message": "Double check your expression for err_tau.",
         "hidden": false,
         "locked": false,
         "points": 1
        }
       ],
       "scored": true,
       "setup": "",
       "teardown": "",
       "type": "doctest"
      }
     ]
    }
   }
  }
 },
 "nbformat": 4,
 "nbformat_minor": 5
}
